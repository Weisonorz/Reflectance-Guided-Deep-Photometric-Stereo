{
 "cells": [
  {
   "cell_type": "code",
   "execution_count": null,
   "metadata": {},
   "outputs": [],
   "source": [
    "from models import PS_FCN_CBN, PS_FCN \n",
    "from datasets import PS_Blobby_BRDF_Dataset \n",
    "\n",
    "PS_Blobby_BRDF_Dataset()"
   ]
  }
 ],
 "metadata": {
  "language_info": {
   "name": "python"
  },
  "orig_nbformat": 4
 },
 "nbformat": 4,
 "nbformat_minor": 2
}
